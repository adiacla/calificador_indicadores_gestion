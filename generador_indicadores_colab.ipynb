{
  "cells": [
    {
      "cell_type": "raw",
      "metadata": {
        "vscode": {
          "languageId": "raw"
        }
      },
      "source": [
        "# 🤖 Generador de Análisis de Indicadores con IA\n",
        "\n",
        "Este notebook utiliza Gemini AI para generar y ejecutar código de análisis de datos automáticamente.\n",
        "\n",
        "## Funcionalidades:\n",
        "- 📊 Carga y análisis de archivos CSV\n",
        "- 🤖 Generación automática de código con IA\n",
        "- 📈 Ejecución segura y visualización de gráficas\n",
        "- 💾 Descarga de resultados\n"
      ]
    },
    {
      "cell_type": "raw",
      "metadata": {
        "vscode": {
          "languageId": "raw"
        }
      },
      "source": [
        "## 🔧 Configuración e Instalación\n"
      ]
    },
    {
      "cell_type": "code",
      "execution_count": null,
      "metadata": {},
      "outputs": [],
      "source": [
        "# Instalar dependencias necesarias\n",
        "%pip install google-genai python-dotenv matplotlib seaborn plotly ipywidgets\n",
        "\n",
        "# Importar librerías\n",
        "import io\n",
        "import sys\n",
        "import contextlib\n",
        "import matplotlib.pyplot as plt\n",
        "import pandas as pd\n",
        "import numpy as np\n",
        "import seaborn as sns\n",
        "import plotly.express as px\n",
        "import plotly.graph_objects as go\n",
        "from typing import Dict, Any, List, Tuple\n",
        "import base64\n",
        "import warnings\n",
        "import tempfile\n",
        "import os\n",
        "from datetime import datetime\n",
        "from google import genai\n",
        "from google.genai import types\n",
        "from google.colab import files, drive\n",
        "from IPython.display import display, HTML, Image\n",
        "import ipywidgets as widgets\n",
        "\n",
        "warnings.filterwarnings(\"ignore\")\n",
        "\n",
        "print(\"✅ Dependencias instaladas correctamente\")\n"
      ]
    },
    {
      "cell_type": "raw",
      "metadata": {
        "vscode": {
          "languageId": "raw"
        }
      },
      "source": [
        "## 🔑 Configuración de API Key\n",
        "\n",
        "Necesitas una API key de Google Gemini. Puedes obtenerla en: https://aistudio.google.com/app/apikey\n"
      ]
    },
    {
      "cell_type": "code",
      "execution_count": null,
      "metadata": {},
      "outputs": [],
      "source": [
        "# Configurar tu API key de Gemini\n",
        "import getpass\n",
        "\n",
        "API_KEY = getpass.getpass(\"Ingresa tu API key de Google Gemini: \")\n",
        "os.environ[\"GOOGLE_API_KEY\"] = API_KEY\n",
        "\n",
        "print(\"✅ API key configurada\")\n"
      ]
    },
    {
      "cell_type": "raw",
      "metadata": {
        "vscode": {
          "languageId": "raw"
        }
      },
      "source": [
        "## 🛠️ Clases y Funciones Principales\n"
      ]
    },
    {
      "cell_type": "code",
      "execution_count": null,
      "metadata": {},
      "outputs": [],
      "source": []
    },
    {
      "cell_type": "raw",
      "metadata": {},
      "source": []
    }
  ],
  "metadata": {
    "language_info": {
      "name": "python"
    }
  },
  "nbformat": 4,
  "nbformat_minor": 2
}
